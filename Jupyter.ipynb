{
 "cells": [
  {
   "cell_type": "code",
   "execution_count": null,
   "metadata": {},
   "outputs": [],
   "source": [
    "import pandas as pd\n",
    "import numpy as np\n",
    "import matplotlib.pyplot as plt\n",
    "from scipy import stats\n",
    "\n",
    "data = pd.read_csv(\"results.csv\")\n",
    "\n",
    "print(data)"
   ]
  },
  {
   "cell_type": "code",
   "execution_count": null,
   "metadata": {
    "scrolled": true
   },
   "outputs": [],
   "source": [
    "df = pd.DataFrame.from_csv('results.csv', parse_dates=False)\n",
    "df = df.drop_duplicates()\n",
    "# remove outliers\n",
    "df = df[(np.abs(stats.zscore(df)) < 3).all(axis=1)]\n",
    "df = df.sort_values(by=['Cost per sq ft'])\n",
    "df.hist(bins=15,column='Cost per sq ft')\n",
    "plt.ylabel('Count')\n",
    "df.hist(bins=15,column='Size in sq ft')\n",
    "plt.ylabel('Count')\n",
    "df.hist(bins=10,column='Price per month')\n",
    "plt.ylabel('Count')\n",
    "plt.title(\"Price per month (CAD)\")\n",
    "plt.show()"
   ]
  },
  {
   "cell_type": "code",
   "execution_count": null,
   "metadata": {},
   "outputs": [],
   "source": [
    "df = pd.DataFrame.from_csv('results.csv', parse_dates=False)\n",
    "df = df.drop_duplicates()\n",
    "# remove outliers\n",
    "df = df[(np.abs(stats.zscore(df)) < 3).all(axis=1)]\n",
    "df = df.sort_values(by=['Size in sq ft'], ascending=True)\n",
    "df.plot(x='Size in sq ft', y='Price per month', style='o')\n",
    "plt.ylabel('Price (CAD)')\n",
    "plt.show()"
   ]
  }
 ],
 "metadata": {
  "kernelspec": {
   "display_name": "Python 3",
   "language": "python",
   "name": "python3"
  },
  "language_info": {
   "codemirror_mode": {
    "name": "ipython",
    "version": 3
   },
   "file_extension": ".py",
   "mimetype": "text/x-python",
   "name": "python",
   "nbconvert_exporter": "python",
   "pygments_lexer": "ipython3",
   "version": "3.6.3"
  }
 },
 "nbformat": 4,
 "nbformat_minor": 2
}
